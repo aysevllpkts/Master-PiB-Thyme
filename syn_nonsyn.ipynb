{
 "cells": [
  {
   "cell_type": "code",
   "execution_count": 1,
   "metadata": {},
   "outputs": [],
   "source": [
    "from Bio.Seq import Seq\n",
    "import pandas as pd"
   ]
  },
  {
   "cell_type": "code",
   "execution_count": null,
   "metadata": {},
   "outputs": [],
   "source": [
    "# I need fasta seq of contig, and position and alt. allele\n",
    "# with biopython, create pro. seq of original and mutated nuc. seq."
   ]
  },
  {
   "cell_type": "code",
   "execution_count": 11,
   "metadata": {},
   "outputs": [],
   "source": [
    "def mutate_seq(seq, new_pos):\n",
    "    mut_seq = seq.tomutable()\n",
    "    for i in range(0, len(new_pos)):\n",
    "        #print(alt[i])\n",
    "        #print(pos[i])\n",
    "        mut_seq[new_pos[i]] = alt[i]\n",
    "    mut_seq = mut_seq.toseq()\n",
    "    #print(mut_seq)\n",
    "    return mut_seq\n",
    "\n",
    "def find_diff_pro(pro, mut_pro):\n",
    "    idx = []\n",
    "    nuc_start = []\n",
    "    nuc_end = []\n",
    "    str_pro = []\n",
    "    str_mut_pro = []\n",
    "    \n",
    "    for i in range(0,len(pro)):\n",
    "        if pro[i] != mut_pro[i]:\n",
    "            idx.append(i+1)\n",
    "            str_pro.append(pro[i])\n",
    "            str_mut_pro.append(mut_pro[i])\n",
    "    \n",
    "    for i in range(0, len(idx)):\n",
    "        nuc_start.append((idx[i]*3)-2)\n",
    "        nuc_end.append(idx[i]*3)\n",
    "    \n",
    "    d = {\"pro_idx\" :idx, \"nuc_start\": nuc_start, \"nuc_end\": nuc_end, \"pro_seq\" : str_pro, \"mut_pro_seq\" : str_mut_pro}\n",
    "    df = pd.DataFrame(data = d)\n",
    "    \n",
    "    return df\n",
    "\n",
    "def nonsyn_info(fasta, alt, pos):\n",
    "    seq = Seq(fasta)\n",
    "    pro_seq = seq.translate()\n",
    "    new_pos = []\n",
    "    for i in range(0, len(pos)):\n",
    "        new_pos.append(pos[i]-1)\n",
    "    mut_seq = mutate_seq(seq, new_pos)\n",
    "    mut_pro_seq = mut_seq.translate()\n",
    "    df = find_diff_pro(pro_seq, mut_pro_seq)\n",
    "    return df\n",
    "\n",
    "def find_nonsyn_snp_pos(df, pos):\n",
    "    vals = []\n",
    "    for i in range(0,len(df)):\n",
    "        #print(i)\n",
    "        for j in range(0, len(pos)):\n",
    "            if int(pos[j]) in range(int(df[\"nuc_start\"].iloc[i]), int(df[\"nuc_end\"].iloc[i])+1):\n",
    "                vals.append(pos[j])\n",
    "        else: continue\n",
    "    return vals"
   ]
  },
  {
   "cell_type": "code",
   "execution_count": 25,
   "metadata": {},
   "outputs": [
    {
     "name": "stdout",
     "output_type": "stream",
     "text": [
      "1976\n",
      "94\n",
      "94\n"
     ]
    }
   ],
   "source": [
    "### for \"FC:JX946357.1\"\n",
    "JX946357_fasta = \"ATGTCTACCATTAGCATAAATCATGTGGGACTCCTTAGAAATCCTCTCCACGGCAAAAGCAAGAGAGCTTCGATCAATAAATCATGGAGTCTCTGTCTCCCTCGTTCGTCATCCGCCTCTCGCCTCGTGAAGCCTTGCCGTGTCTCCTCGAAAACCGATACCAAGCCCGCTGAAATGACCCGACGTTCCGGAAACTACGAGCCTTCGCTTTGGGATTTCGATTTCATTCAATCTCTCGACAATCATCATCCCCACGTGAAGGAGAAGCAGTTGAAAAGGGAGGAAGAGCTGATTGTGGAGGTGAAGATGCTGCTTGGGACAAAAATAGAGGCTGTAAAGCAGTTGGAGTTAATCGATGACTTGAAAAATCTCGGATTGTCTTATTTCTTTCGGGACGAGATAAAGATGGTCTTAACTTCTATATATAATAATTTTTTCGAAAATAAAAATAATCAAGTAGGGGATTTGTATTTCACAGCTCTTGGATTCAGACTCCTTAGGCAACATGGTTTCAATGTTTCACAAGAAATATTTGATTGTTTCAAGAACGAGAAGGGAAGTGATTTCGACGAAACCCTAATCGGCGAAGATACAAAAGCAACCCTGCAACTCTACGAAGCATCTTTCCATCTGAGGGAAGGCGAAAACACACTGGAGCTAGCTAGGCAAATTTCCACCAAGTATCTGCAGAAAAAAGTCGACGAGGGAAGTATAAATGATGAAAACCTATCGTCATGGATTCGACATTCATTGGATCTCCCTCTTCACTGGAGGATCCAAAGGCTCGAGGCGAGATGGTTCTTAGACGCTTACGCGGCAAGGGAAGATAAGAACCCGCTTATCTTCGAGCTCACCAAACTCGACTTCAATATTATTCAAGCAACTCAACAAGAAGAACTCAAAGAGGTCTCTAGGTGGTGGAATAATTCACGTTTGGCTGAAAAACTCCCTTTCGTGAGGGATAGAGTAGTAGAATGCTACTTTTGGGCAGTTGGGCTATTTGATGGTCATGACTATGGATTTCAGAGGAAAGTTAATGCTGCTGTTAATATTCTAATCACTGCCATAGACGACGTTTACGACGTCTATGGTACATTAGACGAACTTCGACTTTTCACGGACGTCATCCGGAGATGGGATACTCAATCGATAGACCAACTTCCATATTACATGCAACTCTGCTATCTGACGCTCTACAACTATGTATCCGATCTGGCTTACAATATTCTCAAAGACCGCGGCATCAACACTATCCCGCATTTACACCAATCGTGGGTAAATACAGTTGAAGCATATTTGAAGGAGGCAGAGTGGTACGAGAGTGGATATGCACCAAGCCTTGAAGAGTATCTCAGCATCGCTAGTATTTCAATAGGTGTTATTCCTATAGTAATACCACTCGAAGTATCTATACCAAACTCCACTTTTCATCGTCGCTCCCCATTCGAATATCATCGCTACGATATACTTCACCTCTCAGCGATGGTTTTAAGGCTTGCTGATGACCTCGGAACAGCGCAGTATGAGGTGGAGACGGGCGACGTGCCGAAAGCAGTCCAGTGTTACATCAAGGATACAAATGCATCGGAGGAGGAGGCGCGGGAGCACGTGAGGTTTATGATCGGAGAGGTGTGGAAGGAGCTGAACACGGCCATGGCGGAGTCCGATGATTGTCCGTTCACGGAGCAAGGGGCGTGGGCTGCAGTTAATATTGGAAGAGCAGCACAGTTTATTTATCTAGAGGGAGATGGGCATGGACGTTTCCAAATCCATCAACACATGGAAAACTTGTTCTTCCACCCATGCGTATGATTCGTTCCATGCCTACCAATCTTGGAAAGTTGAGTCGTTTCTAAAATACATATGAAATATAGAATAATGAAACGACTCAATTGACACAATGTGCTTGAAATTGCTATCTCATTGGAATAAGAGTTATGTGCAAGTAAAAAAAAAAAAAAAAAAAAAAAAAAAAA\"\n",
    "print(len(JX946357_fasta))\n",
    "\n",
    "pos = [56,   75,   87 , 109 , 110,  117 , 129,  140,159, 167,173, 177 , 179 , \n",
    "       188,  190,  191,  200,  209,  227,  301,  303 , 304,  313,  320 , 461, 477,\n",
    "  512,  513,  567,  584,  602,  604,  625,  632,  636,  643,  645,  646  ,647,\n",
    "  651,  656,  657,  663,  672,  688,  692,  698,  714,  731,  734,  739  ,751,\n",
    "  756,  768,  777,  787,  790,  792,  837,  838,  845,  848,  852,  855  ,866,\n",
    " 1143, 1158, 1159, 1161, 1165, 1166, 1190, 1197, 1199, 1206, 1208, 1210 ,1212,\n",
    " 1215, 1222, 1224, 1227, 1726, 1755, 1760, 1812, 1817, 1843, 1893, 1894, 1905,\n",
    " 1912, 1915, 1937]\n",
    "\n",
    "alt = [\"T\", \"T\", \"T\", \"C\", \"T\" ,\"T\" ,\"T\", \"A\", \"C\", \"G\", \"G\", \"G\", \"G\", \"T\", \"T\", \"C\",\n",
    " \"T\", \"A\", \"A\", \"A\", \"A\", \"C\", \"A\" ,\"T\", \"C\", \"T\", \"C\", \"T\", \"T\", \"T\", \"T\", \"T\",\n",
    " \"A\", \"C\", \"A\", \"A\", \"G\", \"G\", \"G\" ,\"T\", \"T\", \"T\", \"G\", \"G\", \"T\", \"G\", \"A\", \"C\",\n",
    "\"T\", \"T\", \"T\", \"A\" ,\"C\", \"T\" ,\"T\" ,\"T\" ,\"C\" ,\"A\" ,\"A\" ,\"A\" ,\"C\" ,\"C\" ,\"T\" ,\"T\",\n",
    " \"A\", \"G\", \"G\", \"T\", \"G\", \"C\", \"G\", \"T\", \"T\", \"T\", \"A\", \"T\", \"T\", \"C\", \"A\", \"A\",\n",
    " \"C\", \"C\", \"G\", \"C\", \"G\", \"G\", \"A\" ,\"C\", \"C\", \"A\", \"T\" ,\"G\", \"G\", \"C\"]\n",
    "\n",
    "print(len(pos))\n",
    "print(len(alt))\n",
    "\n",
    "FC_JX946357 = nonsyn_info(JX946357_fasta, alt, pos)\n",
    "#FC_JX946357\n",
    "FC_JX946357_nonsyn_pos = find_nonsyn_snp_pos(FC_JX946357, pos)"
   ]
  },
  {
   "cell_type": "code",
   "execution_count": 30,
   "metadata": {},
   "outputs": [],
   "source": [
    "FC_JX946357.to_csv(\"FC_JX946357_nonsynINFO.csv\", index = False)\n",
    "\n",
    "with open(\"FC_JX946357_nonsyn_pos.txt\", \"w\") as output:\n",
    "    for row in FC_JX946357_nonsyn_pos:\n",
    "        output.write(str(row) + \"\\n\")"
   ]
  },
  {
   "cell_type": "code",
   "execution_count": 31,
   "metadata": {},
   "outputs": [
    {
     "name": "stdout",
     "output_type": "stream",
     "text": [
      "1961\n",
      "140\n",
      "140\n"
     ]
    }
   ],
   "source": [
    "### for \"FC:JX946358.1: \"\n",
    "JX946358_fasta = \"ATGTCTACCATTAGCATAAATCATGTGGGAATCCTTAGAAATCCTCTCCAATGCAAAAACAAGAGAACTTCAATAAATAAACCATGGAGTCTCAGTCTCCCTCGTTCGTCACCCGCCTCTCGCCTCGTGAAGCCTTGCCGTGTCTCCTCGAAAGTCGATACCATGCCCGATGAAATAACCCGACGTTCTGGTAACTATGAGCCTTCGCTTTGGGATTTGGATTTCATTCAATCTCTCGACAATCATCATCCATATGTGAAGGAGATGCAGTTGAAAAGGGAGGAAGAGTTGATTGTGCAGGTGAAGATGCTGCTGGGGACAAAAATGGAGGCTGTGAAGCAGTTGGAGTTGATCGATGACTTGAAAAATCTCGGATTGTCTTATTTTTTTCGGGACGAGATTAAGACGATCTTAACTTCTATATACAATAATTCTTTCGAAAATAATAATCAAGTAGGGGATTTGTATTTCACGGCTCTTGGATTCAGACTCCTGAGGCAGCACGGTTTCAATGTTTCACAACAAATATTTGACTGTTTTAAGGATAATGATTTCGACGAAACCCTAATCGGCGAAGATACAAAAGGAATTCTCCAACTCTACGAAGCATCTTTCCATTTGAGGGAAGGCGAAAACACACTGGAGCTAGCTAGGCAAATTTCCACCAAGTATCTGCAGAAAAAAGTCGACGAGGGAAGTATAAATGATGAAAACCTATCGTCGTGGATCCGACATTCATTGGATCTCCCTCTTCACTGGAGGATCCAAAGGCTCGAGGCGAGATGTTTCTTAGACGCTTACGCGGCGAGGGAAGACAAGAACCCGCTTATTTTCAAGCTCGCCGAACTCGACTTCAATATTATTCAAGCAACACAACAACAAGAACTCAAAGAGATCTCTAGGTGGTGGAATGATTCAAGTTTGGCTGAAAAACTCCCCTTCGTGAGAGATAGGGTGGTGGAATGCTACTTTTGGGCAGTTGGGCTATTTGAGGGTCATGAATTTGGATTTCAGAGGAAAATTACTGCTGCTATTATTATCCTAATTACTGCTATAGACGATGTTTACGACGTCTACGGTACATTAGATGAACTTCAACTTTTCACTGACGTCATTCGAAGATGGGATACACAATCGATTGACCAACTTCCGTATTACATGCAACTCTGTTATTTGGCGCTCTACAACTTTGTCTCCGATCTGGCTTACGATATTCTCAAAGACCGCGGTCTCAATACTATCCCATATCTACACAGATCGTGGGTAGAATTGGTTGAAGCATATTTGAAGGAGGCTGGGTGGTACGAGAATGGATACACACCAAGCCTTGAAGAGTATCTCACCAACGCCACTATTTCAATAGGCGTTCCTCCTATAGTTTTACCGGTCGAAGTATCCTTACCAAACTCTACGATTCATCGCACCCAGTTCGATCGTCCCCACAAAATACTCGACCTTTCTGCAAGGGTTTTGAGGCTTGCTGACGATCTTGGAACAGCATCGTCTGAGCTGGAGAGAGGGGACGTGCCGAAAGCAATCCAGTGTTACATGAAGGACAACAATGCCTCGGAGGAGGAGGCACGGGAGCACGTGAGGTTTATGATCAGGGAGGCATGGAAGGAGCTGAACACGGCCATGGCGGAGCCCGACAATTGTCCGTTCACGGAACAAACGGTGGAGGCTGCAGCTAATCTCGGAAGAGCAGCACAGTTTATTTATCTAGAGGGAGATGGGCATGCACATTTCCAAATCCATCAACACTTGGAAAACTTGTTCTTCCACCCATGCGTATGATTCGTGCCAGGCGTACCAAATTTGGAAAGTTGAGTCGTTTCTAAAATACATATGAAATATAGAATAATGAAACGACTATAAATTGACACAATGTACTTGAAATTACAATCTCATTGGAATAAGAGTTATGTGCAAATAAAAAAAAAAAAAAAAAAAAAAAAAAAAAA\"\n",
    "print(len(JX946358_fasta))\n",
    "\n",
    "pos = [273,  286,  310,  334,  340,  343,  344,  355,  365,  369,  414,  416,\n",
    "   424,  437,  440,  442,  462,  463,  466,  490,  535,  540,  549,  558,\n",
    "   559,  560,  584,  605,  607,  619,  635,  649,  661,  683,  685,  695,\n",
    "   704,  718,  719,  721,  730,  739,  752,  758,  759,  768,  774,  775,\n",
    "   776,  779,  780,  793,  803,  812,  819,  823,  834,  844,  845,  850,\n",
    "   853,  879,  892,  912,  917,  924,  936,  941,  956,  957,  959,  966,\n",
    "   969,  972,  981,  989,  991,  993,  998, 1002, 1005, 1028, 1059, 1060,\n",
    "  1066, 1068, 1072, 1086, 1101, 1107, 1108, 1111, 1136, 1137, 1139, 1143,\n",
    "  1144, 1146, 1149, 1154, 1168, 1178, 1179, 1187, 1188, 1203, 1204, 1208,\n",
    " 1210, 1227, 1232, 1237, 1242, 1254, 1268, 1452, 1558, 1588, 1589, 1596,\n",
    " 1603, 1612, 1631, 1633, 1641, 1644, 1652, 1666, 1702, 1703, 1723, 1731,\n",
    " 1802, 1818, 1826, 1852, 1863, 1882, 1890, 1897]\n",
    "\n",
    "alt = [\"T\", \"T\", \"T\", \"C\", \"A\", \"C\", \"C\", \"A\", \"G\", \"C\", \"C\", \"A\", \"C\", \"C\", \"G\",\n",
    "  \"G\", \"C\", \"C\", \"C\", \"A\", \"A\", \"C\", \"C\", \"T\", \"A\", \"G\", \"T\", \"G\", \"A\", \"C\",\n",
    "  \"G\", \"T\", \"A\", \"G\", \"A\", \"T\", \"C\", \"G\", \"T\", \"A\", \"T\", \"A\", \"A\", \"A\", \"A\",\n",
    "  \"T\", \"T\", \"A\", \"T\", \"T\", \"A\", \"C\", \"T\", \"C\", \"A\", \"A\", \"T\", \"G\", \"G\", \"T\",\n",
    "  \"A\", \"C\", \"C\", \"G\", \"T\", \"A\", \"T\", \"C\", \"A\", \"A\", \"C\", \"T\", \"T\", \"G\", \"A\",\n",
    "  \"T\", \"T\", \"T\", \"G\", \"C\", \"A\", \"T\", \"T\", \"C\", \"C\", \"T\", \"A\", \"T\", \"C\", \"A\",\n",
    "  \"A\", \"A\", \"T\", \"T\", \"C\", \"T\", \"A\", \"C\", \"G\", \"T\", \"A\", \"G\", \"A\", \"G\", \"T\",\n",
    " \"A\", \"A\", \"G\", \"A\", \"T\", \"A\", \"T\", \"T\", \"T\", \"A\", \"C\", \"C\", \"T\", \"G\", \"A\",\n",
    " \"G\", \"A\", \"T\", \"A\", \"A\", \"A\", \"G\", \"A\", \"A\", \"T\", \"A\", \"C\", \"A\", \"T\", \"T\",\n",
    " \"C\", \"A\", \"C\", \"T\", \"A\"]\n",
    "\n",
    "print(len(pos))\n",
    "print(len(alt))\n",
    "\n",
    "FC_JX946358 = nonsyn_info(JX946358_fasta, alt, pos)\n",
    "#FC_JX946358\n",
    "\n",
    "FC_JX946358_nonsyn_pos = find_nonsyn_snp_pos(FC_JX946358, pos)"
   ]
  },
  {
   "cell_type": "code",
   "execution_count": 32,
   "metadata": {},
   "outputs": [],
   "source": [
    "FC_JX946358.to_csv(\"FC_JX946358_nonsynINFO.csv\", index = False)\n",
    "\n",
    "with open(\"FC_JX946358_nonsyn_pos.txt\", \"w\") as output:\n",
    "    for row in FC_JX946358_nonsyn_pos:\n",
    "        output.write(str(row) + \"\\n\")"
   ]
  },
  {
   "cell_type": "code",
   "execution_count": 36,
   "metadata": {},
   "outputs": [
    {
     "name": "stdout",
     "output_type": "stream",
     "text": [
      "1500\n",
      "118\n",
      "118\n"
     ]
    }
   ],
   "source": [
    "### for \"FC:KM272332.1\"\n",
    "\n",
    "KM272332_fasta = \"ATGGAGTTGATGGATGTTTCAATTTCATGGGTGGTGATTATTGTATCGGTTTTATCCTACTTGATATTGATGGATAAATGGAGAGCAGCGAAGCTCCCGAAAAACATTCCTCCGGGCCCGCCGAAGCTGCCGGTGATTGGCCACCTCCACCTCCTCCGGGGGGGCCTACCCCAGCACGTGCTGAGGGGCATCACCCAGAAGTACGGGGCTGTGGCGCACCTGCAGCTGGGTGAGGTTTACTCGGTTGTGCTTTCGTCGGCGGAGTCGGCGAAGCAGGCGATGAAGGTCCTCGACCCGACCTTCGCCGACCGCTTCGACAGCATCGGGTCGCAGATCATGTGGTACAACAATGATGACATGATTTTCAGCCGTTACAACGACCATTGGCGCCAGATACGCAAGATCTGCGTATCTGAGCTGCTGAGCCCGAGGAACGTCAGGTCCTTCGGGTTCATCCGCCAGGACGAGATGGCGCGCCTCATCCGAGTCTTTGAGTCCTCGGAGGGGGCTGCCATCAATGCCTCGGAGGAGATTTCCAAGATGTCGTGCGCCATCGTTTGCAGGGCGGCCTTCGGGAGCGTGCTCAAGGATCAGGGCATGTTGGCGGACTTGGTCAAGGAGGCCCTCAGTATGGCTTCTGGGTTTGAGCTCGCCGATCTTTACCCTTCCTCCTGGCTTCTCAACCTCCTCTGCTTCAACAAGTATAGATTGCGGAGGATGCGTGGCCGCCTTGACAACATTCTCGATGGCTTCCTCGAGGAGCATAGGGTGAAGAAGAGCGGTGAGTATGGAGGCGAGGACATCATCGACGTTCTCTACAGGATGCAAAAAGATAGCGAGACGAAAGTTCCCATTACCAACAATGGGATCAAGGGCTTCATCTTCGACGTCTTCTCTGCAGGGACTGAAACGTCTGCGACAACCATCCAATGGGCGTTGTCGGAACTCATGAAGAATCCTGAGAAGATGGTCAAGGCACAAGCCGAGGTAAGAGAAAAGCTCAAGGGGAAGACGAACCCGGACGTGGCCGAGGTGCAGGAGCTCAAGTACCTGCGTTCGGTTGTCAAGGAGACTCTCAGGCTTCACCCTCCCTTCCCGTTGATACCCAGGCTATGCAAAGAAGAATGCGAGGTCACCGGGTATACCATTCCCGCCAGAACTCGAATCCTCGTCAACGTCTGGTCCATCGGAAGAGATCCTGCTTACTGGAAAGAGCCTGACACGTTCAACCCCGATAGATTCAACGAGGTCTCGAGAGATGTAATCGGGAACGATTTTGAGTTAATCCCGTTCGGGGCGGGCCGAAGAATCTGCCCCGGTTTGCACTTCGGGCTGGCCAACGTAGAGGTGCCATTGGCACAACTGCTCTACCACTTTGATTGGAAATTGCCACGTGGAATGACGGCTGCTGACATGGACATGTCGGAGACCCCTGGCCTTTCCGGGCCAAGAAAGAACCCTCTTATCATGGTTCCCACAATCCACAATCCAACCTCATAA\"\n",
    "print(len(KM272332_fasta))\n",
    "pos = [69 ,  70 , 198 , 204 , 210 , 216 , 220,  228 , 231 , 237,  239, 243,\n",
    "   246,  255,  257,  258,  261,  267,  270,  273,  276,  279,  281,  299,\n",
    "   325,  346,  354,  359,  360,  370,  378,  384,  391,  393,  408,  420,\n",
    "  422,  426,  429,  434,  438,  444,  447,  449,  450,  457,  459,  460,\n",
    "   463,  465,  473,  478,  483,  507,  509,  512,  544,  580,  590,  594,\n",
    "  628,  664,  666,  714,  717,  720,  726,  729,  756,  757,  766,  771,\n",
    "  776,  779,  780,  807,  819,  834,  838,  899,  926,  939,  942,  954,\n",
    "  1013, 1029, 1080, 1081, 1098, 1141, 1153, 1203, 1207, 1211, 1217, 1247,\n",
    "  1269, 1290, 1301, 1309, 1316, 1329, 1347, 1378, 1393, 1404, 1408, 1409,\n",
    " 1421, 1425, 1431, 1437, 1448, 1449, 1455, 1458, 1460, 1470]\n",
    "\n",
    "alt =  [\"A\", \"G\", \"A\", \"T\", \"C\", \"A\", \"G\", \"A\" ,\"C\" ,\"C\", \"T\", \"A\", \"C\", \"A\", \"A\",\n",
    "  \"A\" ,\"A\" ,\"A\" ,\"A\" ,\"A\", \"A\", \"A\", \"C\" ,\"T\", \"A\", \"T\" ,\"A\", \"A\", \"A\", \"T\",\n",
    "  \"T\" ,\"C\" ,\"T\" ,\"A\" ,\"T\", \"T\", \"C\", \"G\" ,\"A\", \"T\" ,\"T\" ,\"T\", \"T\", \"A\", \"A\",\n",
    "  \"T\" ,\"T\" ,\"T\" ,\"T\" ,\"T\", \"T\", \"T\", \"T\" ,\"T\", \"G\" ,\"A\" ,\"C\", \"T\", \"G\", \"A\",\n",
    "  \"G\" ,\"A\" ,\"A\" ,\"A\" ,\"T\", \"A\", \"T\", \"T\" ,\"T\", \"A\" ,\"T\" ,\"A\", \"G\", \"T\", \"T\",\n",
    "  \"A\" ,\"T\" ,\"C\", \"A\" ,\"T\", \"C\", \"C\", \"A\" ,\"A\", \"T\" ,\"T\" ,\"A\", \"T\", \"A\", \"C\",\n",
    "  \"A\" ,\"G\" ,\"A\" ,\"G\" ,\"T\", \"G\", \"A\", \"A\" ,\"A\", \"G\" ,\"T\" ,\"T\", \"T\", \"A\", \"T\",\n",
    "  \"A\" ,\"A\" ,\"T\" ,\"C\" ,\"T\", \"T\", \"G\", \"A\" ,\"C\", \"A\" ,\"T\" ,\"A\", \"A\"]\n",
    "\n",
    "print(len(pos))\n",
    "print(len(alt))\n",
    "\n",
    "KM272332 = nonsyn_info(KM272332_fasta, alt, pos)\n",
    "KM272332\n",
    "\n",
    "FC_KM272332_nonsynINFO = find_nonsyn_snp_pos(KM272332, pos)"
   ]
  },
  {
   "cell_type": "code",
   "execution_count": 37,
   "metadata": {},
   "outputs": [],
   "source": [
    "KM272332.to_csv(\"FC_KM272332_nonsynINFO.csv\", index = False)\n",
    "\n",
    "with open(\"FC_KM272332_nonsynINFO.txt\", \"w\") as output:\n",
    "    for row in FC_KM272332_nonsynINFO:\n",
    "        output.write(str(row) + \"\\n\")"
   ]
  },
  {
   "cell_type": "code",
   "execution_count": 38,
   "metadata": {},
   "outputs": [
    {
     "name": "stdout",
     "output_type": "stream",
     "text": [
      "1626\n",
      "40\n",
      "40\n"
     ]
    }
   ],
   "source": [
    "#### FC:KR920616.1  \n",
    "KR920616_fasta = \"ATGCGGCGCTCCGGGAACTACCAGGCTCCCGTTTGGAACAATGATTTCATCCAATCTTTCAGCACAGATAAATATAAGGATGAGAAGTTCTTGAAAAAGAAAGAAGAGCTGATTGCACAAGTGAAGGTACTATTGAACACGAAAATGGAGGCTGTTAAGCAATTGGAGTTGATAGAGGACTTGAGAAATCTAGGGTTGACATATTATTTCGAAGATGAGTTTAAGAAAATTTTAACTTCTATATATAATGAGCACAAAGGTTTCAAAAACGAACAAGTCGGGGACTTGTATTTCACATCTCTTGCATTCAGACTCCTCAGACTACACGGTTTCGACGTCTCAGAAGATGTGTTTAACTTCTTTAAGAACGAGGACGGTAGTGATTTCAAGGCGAGCCTTGGTGAGAATACGAAGGACGTGTTGGAACTTTACGAGGCATCCTTCCTTATTAGGGTAGGGGAAGTTACACTAGAGCAAGCAAGAGTGTTTTCCACCAAAATTCTTGAGAAGAAAGTTGAGGAAGGAATCAAAGATGAGAAATTATTAGCATGGATTCAACATTCTTTGGCTCTCCCTCTTCACTGGAGGATCCAAAGGCTAGAGGCGAGATGGTTCTTAGACGCTTACAAGGCGAGGAAGGACATGAATCCAATCATCTACGAGCTCGGGAAAATCGACTTCCATATCATTCAAGAAACCCAACTCCAAGAAGTCCAAGAGGTTTCCCAGTGGTGGACTAATACCAACCTCGCCGAGAAACTCCCATTTGTGAGAGACAGAATTGTGGAGTGCTACTTTTGGGCACTTGGGCTCTTTGAGCCACATGAATATGGATACCAGAGGAAAATGGCTGCCATTATCATCACTTTCGTTACGATCATAGACGACGTCTACGACGTCTATGATACACTCGACGAACTGCAGCTGTTCACCGACGCGATTCGAAAATGGGACGTTGAATCAATAAGCACACTTCCATATTACATGCAAGTTTGCTATTTGGCAGTCTTCACCTACGCTTCAGAGCTGGCTTATGACATTCTCAAAGATCAGGGTTTCAACAGTATCTCATACCTACAGAGATCGTGGTTGAGTTTGGTTGAAGGGTTTTTCCAAGAGGCAAAATGGTACTACGCCGGTTACACGCCAACCCTAGCGGAATATTTGGAGAACGCCAAAGTTTCTATCTCGTCTCCCACGATTATATCTCAAGTTTACTTCACTCTCCCGAACTCGACTGAGAGAACGGTTGTCGAGAACGTCTTCGGATACCACAACATACTCTACCTTTCCGGCATGATTTTAAGGCTTGCCGATGATCTTGGTACAACTCAGTTTGAGCTGAAGAGAGGGGACGTGCAAAAGGCGATCCAGTGTTACATGAACGACAACAATGCCACGGAGGAAGAAGGGACAGAGCACGTGAAGTATCTGCTGCGGGAGGCGTGGCAGGAGATGAACTCGGCGATGGCGGACCCCGACTGTCCGTTGTCGGAAGATCTGGTGTTTGCTGCTGCTAATCTGGGAAGAACATCGCAGTTCATATATCTCGACGGAGATGGCCATGGCGTGCAGCACTCGGAGATTCATAACCAGATGGGAGGCCTTATTTTCGAGCCATATGTG\"\n",
    "print(len(KR920616_fasta))\n",
    "\n",
    "pos = [30,   56,  108,  136,  168,  174,  227,  228,  249,  253,  277,  299,\n",
    "  317,  324,  372,  405,  420,  476,  546,  598,  745,  756,  778,  789,\n",
    "  867,  871,  879,  889,  894,  931,  933,  934, 1158, 1176, 1224, 1265,\n",
    " 1285, 1293, 1303, 1365]\n",
    "\n",
    "alt = [\"T\", \"A\", \"A\", \"T\", \"A\", \"T\", \"G\", \"G\", \"C\", \"T\", \"A\", \"G\", \"A\", \"G\", \"A\",\n",
    "   \"A\", \"C\", \"T\", \"G\", \"T\", \"T\", \"A\", \"C\", \"T\", \"C\", \"T\", \"A\", \"A\", \"T\", \"G\",\n",
    "   \"T\", \"T\", \"T\", \"T\", \"C\", \"A\", \"C\", \"T\", \"C\", \"A\"]\n",
    "\n",
    "print(len(pos))\n",
    "print(len(alt))\n",
    "\n",
    "KR920616 = nonsyn_info(KR920616_fasta, alt, pos)\n",
    "KR920616\n",
    "\n",
    "FC_KR920616_nonsynINFO = find_nonsyn_snp_pos(KR920616, pos)"
   ]
  },
  {
   "cell_type": "code",
   "execution_count": 39,
   "metadata": {},
   "outputs": [],
   "source": [
    "KR920616.to_csv(\"FC_KR920616_nonsynINFO.csv\", index = False)\n",
    "\n",
    "with open(\"FC_KR920616_nonsynINFO.txt\", \"w\") as output:\n",
    "    for row in FC_KR920616_nonsynINFO:\n",
    "        output.write(str(row) + \"\\n\")"
   ]
  },
  {
   "cell_type": "code",
   "execution_count": 41,
   "metadata": {},
   "outputs": [
    {
     "name": "stdout",
     "output_type": "stream",
     "text": [
      "1500\n",
      "91\n",
      "91\n"
     ]
    }
   ],
   "source": [
    "#### >KM272331.1 \n",
    "KM272331_fasta = \"ATGGAGTTGATGGATGTTAAAATTTCATGGGTGGTGATTATTGTATCGGTTTTATCCTACTTGATATTGATGGATAAATTGAGAGCAGCGAAGCTCCCGAAAAACATTCCTCCGGGCCCACCGAAGCTGCCGTTGATTGGCCACCTCCACCTCCTCCGGGGGGGCCTACCCCAGCACTTGCTGAGGGGCATCACCCAGAAGTACGGGCCCGTGGCGCACGTGCAGCTGGGCGAGCTCTTCTCGGTCGTTCTTTCGTCGACCGAGGCGGCGAGGCAGGCGATGAAGGTGCTCGACCCGAACTTCGCCGACCGCTTCGTCAACATCGGGTCGCGGATCATGTGGTACGACAGCGAGGACATTATTTTCAGCCGTTACAACGACCACTGGCGCCAGATACGCAAGATCTGCGTCTCTGAGCTGCTGAGCCCGAAGAACGTCAGGTCCTTCGGGTACATTCGCCAGGACGAGATGGCTCGCCTCATCCGGCTCTTCGAGTCCTCGGAGGGCAAGCCTGTCAACGTCTCGGAGGAGATTTCCAAGACGGTATGCACCATTGTGAGCAGGGTGGCCTTTGGGAGCGCCGTCAAGGATCAAAGCCTTTTGATGAACTTAGTCAAGGAGTCCCTCAGGATGGCTTCCGGCTTTGAGCTCGCCGATGTTTTCCCTTCCTCTTGGCTTCTCAACCTTCTCTGCTTCAACAAGTATAGGTTGTGGAGGATGCGCGCCCGCCTCGACAAATTTCTTGATGGCTTCCTCGCGGAGCATAGGGTGAAGAAGAGCGGTGAGTTTGGAGGTGAGGACATCATCGATGTTCTTTACAGGATGCAGGAGGATAGCGAGACGAAAGTTCCCATTACCAACAATGGGATCAAGGGCTTCATCTACGACGTCTTCTCTGCAGGGACTGACACATCTGGAGCGACCATCCTATGGGCGTTGTCGGAACTCATGAGATATCCAGAAAAGATGGCCAAGGCACAGGCGGAGGTAAGAGAGACACTCAAGGGGAAGACGAATGTGGACATGGCCGAGGTGCATGAGCTCAAGTACCTGAGATCGGTGGTGAAGGAGGCTCTCAGGCTTCACCCTCCCTTCCCGATGATACCAAGACTATGCGTACAAGAATCCGAGGTCACCGGGTATACTATTCCGGCTAACACACGAATCCTCATCAACGTCTGGTCCATCGGAAGGGACCCCCTCTACTGGGAAGATCCCGACACGTTCAACCCCGATAGGTACGACGAGGTCCCAAGGGATATAATTGGGAACGATTTCGAGCTAATCCCGTTCGGGTCGGGCCGCAGAATCTGCCCCGGTTTGCATTTCGGGCTGGCCAACATAGAGGTACCATTGGCGCAACTGCTATACCATTTCGACTGGAAACTGCCACCTGGCATGACGGCTGCTGACATTGACATGACGGAGAAATCAGGCCTTTCTGGGCCAAGAAAGAACCCTCTTATCTTGGTTCCAATAATCCACAATCCAACCTCATAA\"\n",
    "print(len(KM272331_fasta))\n",
    "\n",
    "pos = [123,  147 , 150,  174,  181,  183,  195,  202,  210 , 248,  260,  296,\n",
    "  309 , 310  ,315 , 333 , 345 , 347 , 357 , 388 , 390 , 392 , 393,  397,\n",
    "  398 , 409  ,410 , 411 , 413 , 415 , 420 , 432 , 440 , 457 , 462,  466,\n",
    "  476 , 490  ,493 , 497 , 501 , 513 , 526 , 531 , 539 , 546 , 594,  613,\n",
    "  628 , 646  ,676 , 679 , 690 , 722 , 756 , 757 , 779 , 798 , 799,  815,\n",
    "  826 , 830  ,836 , 839 , 840 , 843 , 850 , 858 , 873 , 894 , 899,  920,\n",
    "  921 , 935  ,959 , 975 , 981 , 984 ,1351 ,1353 ,1371 ,1380 ,1389, 1397,\n",
    " 1405 ,1409, 1410 ,1417 ,1423 ,1442 ,1456]\n",
    "\n",
    "alt = [\"A\", \"A\", \"T\", \"A\", \"G\", \"A\", \"A\", \"C\", \"T\" ,\"C\", \"T\", \"T\", \"A\", \"T\", \"T\", \"A\",\n",
    " \"T\", \"G\", \"T\", \"T\", \"G\", \"C\", \"A\", \"A\", \"A\", \"A\", \"C\", \"A\", \"T\", \"A\", \"A\", \"A\",\n",
    " \"A\", \"A\", \"A\", \"A\", \"A\", \"G\", \"A\", \"T\", \"A\", \"T\", \"C\", \"T\", \"G\", \"A\", \"G\",\"A\",\n",
    " \"G\", \"C\", \"T\", \"T\", \"T\", \"A\", \"T\", \"A\", \"A\", \"C\", \"A\", \"A\", \"T\", \"G\", \"A\", \"T\",\n",
    " \"A\", \"A\", \"T\", \"T\", \"A\", \"T\", \"T\", \"A\", \"A\", \"T\", \"T\", \"A\", \"A\", \"A\", \"T\", \"G\",\n",
    " \"T\", \"T\", \"A\", \"A\", \"A\", \"T\", \"G\", \"A\", \"G\", \"T\", \"G\"]\n",
    "\n",
    "print(len(pos))\n",
    "print(len(alt))\n",
    "\n",
    "KM272331 = nonsyn_info(KM272331_fasta, alt, pos)\n",
    "KM272331\n",
    "\n",
    "FC_KM272331_nonsynINFO = find_nonsyn_snp_pos(KM272331, pos)"
   ]
  },
  {
   "cell_type": "code",
   "execution_count": 42,
   "metadata": {},
   "outputs": [],
   "source": [
    "KM272331.to_csv(\"FC_KM272331_nonsynINFO.csv\", index = False)\n",
    "\n",
    "with open(\"FC_KM272331_nonsynINFO.txt\", \"w\") as output:\n",
    "    for row in FC_KM272331_nonsynINFO:\n",
    "        output.write(str(row) + \"\\n\")"
   ]
  },
  {
   "cell_type": "code",
   "execution_count": 47,
   "metadata": {},
   "outputs": [
    {
     "name": "stdout",
     "output_type": "stream",
     "text": [
      "1794\n",
      "130\n",
      "130\n"
     ]
    }
   ],
   "source": [
    "#### FC:KC461937.1  \n",
    "KC461937_fasta = \"ATGTCTACCATTAGCATAAATCATGTGGGAATCCTTAGAAATCCTCTCCAATGCAAAAACAAGAGAACTTCAATCAATAAACCATGGAGTCTCAGTCTCCCTCGTTCGCCACCCGCCTCTCGCCTCGTGAAGCCTTGCCGTGTCTCCTCGAAAGTCGATACCATGCCCGCTGAAATAACCCGACGTTCTGGTAACTATGAGCCTTCGCTTTGGGATTTCGATTTCATTCAATCTCTCGACGATCATCATCCCTATGTGAAGGAGAAGCAGTTGAAAAGGGAGGAAGAGCTGATTGTGCAGGTGAAGATGCTGCTGGGGACAAAAATGGAGGCTGTGAAGCAGTTGGAGTTGATCGATGACTTGAAAAATCTCGGATTGTCTTATTTTTTTCGGGAGGAGATTAAGACGATCTTAACTTCTATATACAATAATTCTTTCGAAAATAATAATAAAGTAGGGGATTTGTATTTCACGGCTCTTGGATTCAGACTCCTGAGGCAGCACGGTTTCAATGTTTCACAACAAATATTTGACTGTTTTAAGGGTAATGATTTCGACGAAACCATAATCGGCGAAGATACAAAAGGAATTCTCCAACTCTACGAAGCATCTTTCCACTTGAGGGAAGGCGAAAACACACTAGAACTAGCTAGGCAAATTTCCACCAAGTATCTGCAGAAAAAAGTCGACGAGGGAAGTATAAATGATGAAAACCTATCGTCGTGGATTCGACATTCATTGGATCTCCCTCTTCACTGGAGGATTCAAAGGCTCGAGGCGAGATGGTTCTTAGATGCTTACACAGTGAGGGAAGACAAGAACCCGCTTATTTTCGAGCTCGCCAAACTCGACTTCAATATTATTCAAGCGACTCAACAACAAGAACTCAAAGAAGTCTCTAGGTGGTGGAATGATTCATGTTTGGCCGAAAAACTTCCCTTCGTGAGGGATAGAGTAGTGGAAAGCTTCTTTTGGGCGGTAGGGCTATTTGAGGGTCATGAATTTGGATATCAGAGGAAAATGACTACTGCTATTATCATTCTAATTACTGCTATAGATGATCTTTATGATGTCTACGGTACATTAGACGAACTTCATCTTTTCACTGACGTCATACGAAGATGGGATACACAATCAATAGACCAACTTCCATACTACATGCAACTCTGTTATTTGGCGCTCTACAACTTTGTCTCGGATCTGGCTTACGATATTCTCAAAGACCGCGGTCCCAATACTATCCCATATCTACAGGAATCGTGGGTGAAATTGGTTGAAGCATATCTGAAGGAGGCAGAGTGGTTTGAGAGTGGATACACACCAAGCCTTGAAGAGTATCTCACCAACGCCAAGACTTCGATAGGCTCTCTTACAATATTACTCCAAGTCGAATTATCATTACCGAACTCCACCATTGATCGCGCTGCATTCGACTGTTGCCACAAAATACTTTACCTCTCTGCGACGGTTTCAAGGCTTGCCGATGATCTTGGAACAACATCGTCTGAGCTGGAGAGAGGGGACGTGCCGAAAGCAATCCAGTGTTACATGAAGGATGCAAATGCATCGGAGGAGGAGGCGCGGGAGCACGTGAGGTTTATGATCGGAGAGGTGTGGAAGGAGTTGAACACGGCCATGACGGAGCCCGACGATTGCCCGTTTACGGAACAACTGGTGGAGGCTGCAGCTAATCTTGGAAGAGCAGCACAGTATATTTATAGAGAGGGAGATGGCCATGGACATTTCAAAATTCATCAACACATCGGAAACTTGTTCTTCCACCCATGCGTATGA\"\n",
    "print(len(KC461937_fasta))\n",
    "\n",
    "pos = [ 11,   13,   28,   65,  100,  102,  115,  140,  166,  171,  193,  194,\n",
    "   195,  240,  243,  252,  277,  304,  310,  318,  334,  340,  344,  347,\n",
    "   361,  380,  390,  394,  395,  413,  421,  442,  449,  463,  466,  497,\n",
    "   501,  703,  713,  717,  727,  730,  750,  752,  756,  766,  771,  774,\n",
    "   778,  786,  812,  814,  815,  824,  827,  834,  860,  861,  873,  917,\n",
    "   920,  921,  928,  938,  955,  957, 1041, 1044, 1065, 1083, 1104, 1187,\n",
    "  1210, 1233, 1245, 1252, 1272, 1274, 1279, 1289, 1304, 1316, 1325, 1355,\n",
    "  1356, 1361, 1384, 1393, 1401, 1403, 1404, 1406, 1420, 1430, 1442, 1448,\n",
    "  1452, 1463, 1468, 1472, 1476, 1479, 1515, 1525, 1534, 1540, 1545, 1551,\n",
    " 1555, 1559, 1568, 1578, 1595, 1605, 1617, 1624, 1635, 1637, 1639, 1658,\n",
    " 1664, 1666, 1670, 1679, 1680, 1694, 1700, 1703, 1754, 1757]\n",
    "\n",
    "alt = [ \"A\", \"T\" ,\"A\", \"T\" ,\"A\", \"C\", \"A\", \"A\", \"A\", \"A\", \"G\", \"C\", \"G\", \"T\", \"C\",\n",
    "  \"A\", \"C\" ,\"C\", \"G\" ,\"A\" ,\"C\", \"A\", \"C\", \"C\", \"C\" ,\"G\", \"G\", \"T\", \"G\", \"G\",\n",
    "  \"G\", \"G\" ,\"C\", \"C\" ,\"C\" ,\"A\", \"T\", \"G\", \"T\", \"G\" ,\"T\", \"T\", \"C\", \"A\", \"T\",\n",
    "  \"T\", \"A\", \"G\", \"A\" ,\"C\" ,\"C\", \"T\", \"G\", \"T\", \"C\" ,\"T\", \"G\", \"C\", \"A\", \"T\",\n",
    "  \"T\", \"C\", \"C\", \"T\" ,\"C\" ,\"G\", \"C\", \"C\", \"A\", \"G\" ,\"T\", \"G\", \"A\", \"G\", \"G\",\n",
    "  \"T\", \"T\", \"A\", \"A\" ,\"G\" ,\"T\", \"G\", \"A\", \"T\", \"C\", \"C\", \"T\", \"G\", \"T\", \"T\",\n",
    "  \"A\", \"G\", \"T\", \"C\", \"T\" ,\"A\", \"C\", \"T\", \"A\", \"T\" ,\"T\", \"A\" ,\"A\", \"A\", \"A\",\n",
    " \"T\" ,\"C\" ,\"T\" ,\"T\", \"A\", \"T\", \"A\", \"A\", \"T\", \"A\" ,\"T\", \"A\" ,\"C\" ,\"A\", \"T\",\n",
    " \"T\" ,\"A\" ,\"C\" ,\"T\", \"A\", \"A\", \"A\", \"T\" ,\"G\" ,\"G\"]\n",
    "\n",
    "print(len(pos))\n",
    "print(len(alt))\n",
    "\n",
    "KC461937 = nonsyn_info(KC461937_fasta, alt, pos)\n",
    "KC461937\n",
    "\n",
    "FC_KC461937_nonsynINFO = find_nonsyn_snp_pos(KC461937, pos)"
   ]
  },
  {
   "cell_type": "code",
   "execution_count": 48,
   "metadata": {},
   "outputs": [],
   "source": [
    "KC461937.to_csv(\"FC_KC461937_nonsynINFO.csv\", index = False)\n",
    "\n",
    "with open(\"FC_KC461937_nonsynINFO.txt\", \"w\") as output:\n",
    "    for row in FC_KC461937_nonsynINFO:\n",
    "        output.write(str(row) + \"\\n\")"
   ]
  },
  {
   "cell_type": "code",
   "execution_count": 46,
   "metadata": {},
   "outputs": [
    {
     "name": "stdout",
     "output_type": "stream",
     "text": [
      "1800\n",
      "87\n",
      "87\n"
     ]
    }
   ],
   "source": [
    "# FC:Contig71000 \n",
    "Contig71000_fasta = \"atgtctgcaaccattagcgtacttcaccacgcgacgatccttcccaaaccagctaatgatgttgtcctctgcaaaaacaagagagctccagatactaatccatggagtccctctctctcctctctctctatctcctcaaaactaaataccaagaagcccagtacagaaaaagatcgacggcgttccggaaaataccggcctgcactctgggatttcaatttcatccaatctctcaacacaaatgatcactatcataaggaggtacataggcaggaagagttgatcgtggaggtgaagaagttgctcggggaagaaatcgaggcggttaagcagttggagctgattgacgacttgaagaatttggggttgtcttatttttttcaagaggagattaggaatgtgttaggttccatatacgttgagcacaaattcttcataaacaatcaagtcgagggaagtaaattagatctgtatttcacagctcttggattcagactctttagagaagccggcttcagtgtttcacaagaagtatttgatcgtttcaagaacgaggagagcagtggtttcgaggaatgccttggtgaggacacgaaagggatgttgcaactctacgaagcatctttcctattgagagaaggtgaggacacattggagctagctaggcaaatttccaccaaatttcttcaggaaaaacttgatggtaccgaaattagtgatggtaatctatcatcctcgattcgccattctttggagatccctcttcactggaggatccagaggctagaggcgagatggttcttagatgcttacgcggccaggaaagacatgaatccacttatcttcgagcttgccaaactcgacttcaatattatccaagcaacacaacaacaagaactgaaagatctctcgaggtggtggaagaatttaagcctcccagtaaaactcccatttgtgagggataggttagtggagagctacttttgggcagttgggcttttcgagcctcacaaatttggatatcaaagaaaaattgctgcaaaaattataaccctaattacttctcttgacgatgtttacgatatctacggtactctcgacgaactgcaactatttaccgacgctattcgaagatgggatactgaatcagccaaccaacttccttactacttgcaattattttattttgcgctctacacttttgtttccgaggtggcatacgatattcttaaagaggaggagggtttcttcaccatcccacatctacagagagcgtgggtggatttggttgaaggatatttacaagaggcgaagtggtaccacgctaattatacaccaagcatggaggaatatctaaacaccgccaccgtcacaataggggctccggcggtgatttcccaagttcatttcgtactagcaaagtcgaatgagaaagccgagagtttgcacgaatacgaagagatcattcgcctctccgggaagctcgtacggcttcccgatgacctaggaacattaccgtttgagatgaagagaggcgacgtggcgaaatcgatccagatatacatgaaggaacacggtgctagtcgggaagaagcggaagaacacgtgaggtatgagattagggaggcgtggaaggagatgaatacattaatggcggcgaaatctgcgttgagagatgatgatttggctatggttgctgctaatcttgggagagatgcgcagttcatgtacctcgacggagacggtaaccactctcacttacagcaccacattcaaaacctcctgttccacccatatccc\"\n",
    "Contig71000_fasta = Contig71000_fasta.upper()\n",
    "\n",
    "print(len(Contig71000_fasta))\n",
    "\n",
    "pos = [ 52,  151,  164,  174,  264,  279,  288,  306,  309,  325,  329,  331,\n",
    "  402,  422,  440,  501,  509,  539,  549,  570,  592,  624,  628,  645,\n",
    "  648,  651,  671,  725,  746,  771,  780,  813,  815 , 821,  822,  873,\n",
    "  898,  921,  957,  971,  988, 1042, 1060, 1077, 1089 ,1097, 1104, 1109,\n",
    " 1119, 1121, 1151, 1176, 1197, 1203, 1214, 1221, 1258, 1262, 1297, 1329,\n",
    " 1336, 1369, 1382, 1385, 1410, 1427, 1450, 1453, 1455, 1469, 1483, 1491,\n",
    " 1509, 1529, 1530, 1559, 1570, 1602 ,1617, 1708, 1722, 1725, 1737, 1750,\n",
    " 1764, 1769, 1785]\n",
    "\n",
    "alt = [ \"A\", \"G\", \"T\", \"C\" ,\"G\" ,\"A\" ,\"A\" ,\"G\", \"T\" ,\"T\" ,\"G\", \"T\" ,\"A\", \"T\", \"G\",\n",
    " \"T\", \"T\", \"T\", \"A\", \"G\", \"C\", \"G\", \"T\", \"C\", \"C\", \"G\", \"T\", \"T\", \"G\", \"T\",\n",
    " \"A\", \"T\", \"T\", \"A\", \"A\", \"C\", \"T\", \"A\", \"A\", \"C\", \"A\", \"G\", \"G\", \"A\", \"T\",\n",
    " \"C\", \"G\", \"G\" ,\"T\", \"T\", \"T\", \"G\", \"T\", \"G\", \"C\", \"T\", \"A\", \"G\", \"C\", \"A\",\n",
    " \"T\", \"A\", \"T\", \"T\", \"T\", \"T\", \"A\", \"C\", \"T\", \"T\", \"T\", \"C\", \"G\", \"C\", \"T\",\n",
    " \"A\", \"T\", \"T\", \"A\", \"T\", \"A\", \"A\", \"T\", \"T\", \"A\", \"G\", \"C\"]\n",
    "\n",
    "print(len(pos))\n",
    "print(len(alt))\n",
    "\n",
    "Contig71000 = nonsyn_info(Contig71000_fasta, alt, pos)\n",
    "Contig71000\n",
    "\n",
    "FC_Contig71000_nonsynINFO = find_nonsyn_snp_pos(Contig71000, pos)"
   ]
  },
  {
   "cell_type": "code",
   "execution_count": 49,
   "metadata": {},
   "outputs": [],
   "source": [
    "Contig71000.to_csv(\"FC_Contig71000_nonsynINFO.csv\", index = False)\n",
    "\n",
    "with open(\"FC_Contig71000_nonsynINFO.txt\", \"w\") as output:\n",
    "    for row in FC_Contig71000_nonsynINFO:\n",
    "        output.write(str(row) + \"\\n\")"
   ]
  },
  {
   "cell_type": "code",
   "execution_count": 45,
   "metadata": {},
   "outputs": [
    {
     "name": "stdout",
     "output_type": "stream",
     "text": [
      "1482\n",
      "58\n",
      "58\n"
     ]
    }
   ],
   "source": [
    "# FC:Contig12377 \n",
    "Contig12377_fasta = \"atggaggctgttaagcaattggagttgatagaggacttgagaaatctagggttgacatattatttcgaagacgagtttaagaaaattttaacttctatatataatgagcacaaaggtttcaaaaacgaacaagtcggggacttgtatttcacatctcttgcattcagactcctcagactacacggtttcgacgtctcagaagatgtgtttaacttctttaagaacgaggacggtagtgatttcaaggcgagccttggtgagaatacgaaggacgtgttggaactttacgaggcatccttccttataagggtaggggaagttacactagagcaagcaagagtgttttccaccaaaattcttgagaagaaagttgaggaaggaatcaaagatgagaaattattagcatggattcaacattctttggctctccctcttcactggaggatccaaaggctagaggcgagatggttcttagacgcttacaaggcgaggaaggacatgaatccaatcatctacgagctcgggaaaatcgacttccatatcattcaagaaacacaactacaagaagtccaagaggtttcacagtggtggactaataccaacctcgccgagaaactcccatttgtgagagacagaattgtggagtgctacttttgggcacttgggctctttgagccacatgaatatggataccagaggaaaatggctgccattatcatcactttcgtcacgatcatagacgacgtctacgacgtctatggtacactcgacgaactgcagctgttcaccgacgcgattcgaaaatgggacgttgaatcaataagcacacttccatattacatgcaagtttgctatttggcagtcttcacctacgcttcagagctggcttatgacattctcaaagatcagggtttcaacagtatctcatacctacagagatcgtggttgagtttggttgaagggtttttccaagaggcaaaatggtactacgccggttacacgccaaccctagctgaatatttggagaacgccaaagtttctatctcgtctcccacgattatatctcaagtttacttcactctcccgaactcgactgagagaacggttgtcgagaacgtctacggataccacaacatactctacctttccggcatgattttaaggcttgccgatgatcttggtacaactcagtttgagctgaagagaggggacgtgcaaaaggcgatccagtgttacatgaacgacaacaatgccacagaggaagaagggacagagcacgtgaagtatctgctgcgggaggcgtggcaggagatgaactcggcgatggcggaccccgactgtccgttgtcggaagatctggtgtttgctgctgctaatctgggaagagcatcgcagttcatatatctcgacggagatggccatggcgtgcagcactcggagattcataaccagatgggaggcctcatcttcgagccgtacgtg\"\n",
    "\n",
    "Contig12377_fasta = Contig12377_fasta.upper()\n",
    "\n",
    "print(len(Contig12377_fasta))\n",
    "\n",
    "pos = [ 24  , 30 ,  67,   70 ,  83,  105,  109,  120,  126,  133 , 183,  256,\n",
    "  261 , 267 , 276 , 292  ,298 , 382 , 408 , 475 , 489,  499,  505,  516,\n",
    "  555,  608 , 612 , 634  ,651 , 711 , 732 , 733 , 750,  963,  985,  987,\n",
    "  988, 1022 ,1032 ,1056 ,1108 ,1117 ,1150 ,1179 ,1209, 1279, 1297, 1338,\n",
    " 1358, 1359 ,1392, 1399 ,1418 ,1429 ,1437 ,1462 ,1471, 1473]\n",
    "\n",
    "alt = [ \"A\", \"T\" ,\"A\", \"A\" ,\"G\", \"C\" ,\"T\", \"A\" ,\"T\", \"A\" ,\"T\", \"A\", \"A\", \"A\", \"C\",\n",
    " \"T\", \"A\", \"G\", \"T\", \"A\" ,\"C\", \"T\", \"G\", \"T\" ,\"G\", \"T\", \"A\" ,\"C\", \"T\", \"T\",\n",
    " \"A\", \"G\", \"T\", \"A\", \"C\" ,\"A\", \"C\", \"C\", \"T\" ,\"A\", \"T\", \"A\" ,\"A\" ,\"C\", \"A\",\n",
    " \"T\", \"A\", \"T\", \"A\", \"C\" ,\"A\", \"G\", \"T\", \"A\" ,\"T\", \"A\", \"T\", \"A\"]\n",
    "\n",
    "print(len(pos))\n",
    "print(len(alt))\n",
    "\n",
    "Contig12377 = nonsyn_info(Contig12377_fasta, alt, pos)\n",
    "Contig12377\n",
    "\n",
    "FC_Contig12377_nonsynINFO = find_nonsyn_snp_pos(Contig12377, pos)"
   ]
  },
  {
   "cell_type": "code",
   "execution_count": 50,
   "metadata": {},
   "outputs": [],
   "source": [
    "Contig12377.to_csv(\"FC_Contig12377_nonsynINFO.csv\", index = False)\n",
    "\n",
    "with open(\"FC_Contig12377_nonsynINFO.txt\", \"w\") as output:\n",
    "    for row in FC_Contig12377_nonsynINFO:\n",
    "        output.write(str(row) + \"\\n\")"
   ]
  },
  {
   "cell_type": "code",
   "execution_count": 44,
   "metadata": {},
   "outputs": [
    {
     "name": "stdout",
     "output_type": "stream",
     "text": [
      "3237\n",
      "157\n",
      "157\n"
     ]
    }
   ],
   "source": [
    "# AT:Contig4190\n",
    "Contig4190_fasta = \"atgcgtcctagaaagagagcaggggaaggcgaggctgttaaccctagcgattccgagagcatcaagaagcagcgcgtcgtttcttccacggagaagtccaacaaccaggagaagaacagcggcggggccagtgtagagaactgtaacagtagcgggaactgtagcgagccgacggtcactgaaatggcgttcgatgacggaacttcgcgtgatattgatgaggatctccacagcaggcagctggctgtgtatgggcgggagacgatgaggcgcctctttgcttctaatgttctcgtgtctggaatgcaaggactcggagttgagatagctaagaacctgattcttgctggtgtgaagtctgtgacattgcacgatgaagggactgtggagttgtgggatatgtctagtaactttgttttcacggaaaaggatctgggcaagaatagggcacttgcttcagttcaaaagctacaggagctaaataatgctgtgaccgtcttgactttgaccacaaaattgactaaagagcagctttcggattttcaggctgtggttttcaccgacatcaatttagatagtgcgatcgagttcaatgactactgtcacaatcatcagccacctattgctttcattaagtcagaagttagaggcctttttggtagtgctttttgcgattttggacctgcattcactgtattcgatgtcgatggtgaggagcctcatacaggaattattgcatccatcagtaacgacaaccctgcccttgtggcatgtgtggatgatgaaaggctcgagtttcaggatggtgatctggttgtgttctcagaagtcaaaggcatgacagaactgaatgatggaaagcctagaaaagttaaaaatgcacgaccctattctttctttcttgaggaagatacaactaactacggtgcatacgagagaggtggtattgtgactcaggtgaaacagcccaaggttttgaacttcaagccactgaaggaggcattaaaggatactggtgattttcttctttctgattttgccaagtttgacaggccacctcttctgcatttggcattccaagcactggataagtatgtatctgaattgggacgctacccagttgctggttctgaagaggatgcccagaagttgataaatatagccagtagcatgaatgaaagccaaggtgaaggcaaattggatgatattaatcccaagcttctgaaacagtttgctttcggtgctagagctgtcctgaatccaatggctgccatgttcggtggcattgttgggcaggaggttatgaaggcatgctctgggaagtttcatcctctatttcagttcttttactttgactctgtagagtcacttcctaccgagcctgtagatccaagcgaattcaaacctttaaatagccgttacgatgcccaaatttcagtctttgggtctaagctacaaaagaaactggaagatgcaaaaacttttgttgttggatctggtgcgctaggctgtgaattcctgaagaatttggctctaatgggagtttcatgtgggtcagctggaaaattgactattactgatgatgatgtgatagagaagagtaacctaagtaggcaattcctcttccgagattggaatattgggcaaccaaaatccactgttgctgcttctgctgctatagcaatcaatccccagttacacatcgaagctttacagaatcgtgttggctcggagacagagaatgtttttgatgatgctttctgggagaaactcagtgttgtgattaatgccctcgacaatgtaaatgccaggctttatgttgaccagaggtgcttatatttccagaaaccccttctggagtctggaactttgggtgccaagtgcaatactcaaatggtcattccccatctcacagaaaactatggtgcttcacgtgaccccccagagaaacaagctccaatgtgtactgtgcactccttcccccacaatattgatcattgcttaacatgggcccgatcagaatttgaaggcttgctggaaaagacacctgctgaagtgaatgcctatctttcgaaccctagtgagtatgcatctgcaatgaaaaatgctggggatgctcaagcaagggacaacttggaacgtgttattgagtgtcttgacaaggagcggtgtgaatcattccaagactgtattttgtgggctcgtctaaggtttgaagactattttgcaaacaaggtgaagcagttagctttcactttccctgaagatgctgcaaccagcactggggcacctttctggtcagctccgaagagattccctcgcccgctgcagttttcgacctccgatcccagccatcttcacttcgttatgtctggatccattctacgagctgagacgtttggcatccccatccctgactgggtgaaaaacccaaagaaactggccgaggctgttgatcaagtcattgtccctgatttccaaccaaagaaggatgcgaaaattgtaactgatgagaaagccaccagccttgctactgcttcagtggatgatgctgatgttatcaacgacttaattcagaagcttgagcaatgtcgtaaaacattaccaccaaacttcatgatgaaaccaatccagtttgagaaggacgacgacaccaacttccacatggacttcatcgcagcacttgcaaacatgagggcgagaaattacagcattccggaagtagacaagctgaaagccaaattcattgccgggaggatcattccagccattgctacttccacagcaatggccaccggcctggtgtgcctcgagctatacaaggtgatcgacgggtcccacaaggttgaagactatcgcaacacttttgccaacctggcgctccctctgttctccatagccgaaccactggctcccaaagtcgtgaagcacaagaacatgagctggactgtgtgggaccgatggattgtgaaagacaatcctactctaagggaactgctcaaatggctttcggacaaagggctgaacgcgtacagtatttctttcggaagctgtttgctctataacagtatgtttcctcgacacagggatcggatggataggaggattgcagacctggtgaaggacgtggcgaaggtggagctgccaccgtatcgtaaccatgtggacgtggtggttgcttgcgaggacgaggatgacaatgatgtcgatattcctcagatatcgatttacttccgt\"\n",
    "Contig4190_fasta = Contig4190_fasta.upper()\n",
    "\n",
    "print(len(Contig4190_fasta))\n",
    "\n",
    "pos = [14,   39,   78,   93,  100,  101,  114,  121,  168,  171,  198,  206,\n",
    "   210,  219,  234,  249,  258,  282,  489,  495,  507,  511,  565,  578,\n",
    "   585,  618,  621,  639,  657,  660,  665,  694,  699,  705,  714,  762,\n",
    "   765,  787,  795,  813,  924,  927,  933,  939,  966,  993,  999, 1018,\n",
    "  1029, 1060, 1071, 1083, 1096, 1145, 1152, 1156, 1157, 1169, 1187, 1356,\n",
    "  1368, 1382, 1386, 1390, 1404, 1407, 1422, 1425, 1431, 1434, 1437, 1488,\n",
    "  1506, 1521, 1530, 1552, 1558, 1562, 1575, 1590, 1623, 1638, 1656, 1668,\n",
    " 1696, 1701, 1704, 1734, 1737, 1794, 1806, 1809, 1923, 2022, 2028, 2070,\n",
    " 2071, 2073, 2081, 2088, 2091, 2229, 2241, 2247, 2292, 2307, 2328, 2337,\n",
    " 2343, 2376, 2394, 2400, 2427, 2433, 2439, 2442, 2445, 2475, 2484, 2493,\n",
    " 2505, 2544, 2569, 2594, 2631, 2700, 2706, 2712, 2727, 2751, 2754, 2763,\n",
    " 2799, 2800, 2805, 2815, 2817, 2824, 2829, 2847, 2880, 2889, 2901, 2949,\n",
    " 2973, 3027, 3033, 3060, 3069, 3129, 3153, 3162, 3168, 3174, 3175, 3183,\n",
    " 3189]\n",
    "\n",
    "alt = [\"G\" ,\"A\" ,\"T\", \"C\", \"T\", \"G\", \"C\", \"A\", \"A\", \"A\", \"T\", \"T\", \"C\", \"C\", \"T\",\n",
    "  \"T\", \"A\" ,\"A\" ,\"C\" ,\"T\" ,\"T\" ,\"G\" ,\"G\", \"A\" ,\"T\", \"G\" ,\"C\", \"T\" ,\"C\", \"C\",\n",
    "  \"T\", \"A\" ,\"T\" ,\"T\" ,\"A\" ,\"T\" ,\"A\" ,\"C\", \"A\" ,\"T\", \"T\" ,\"C\", \"T\" ,\"G\", \"A\",\n",
    "  \"A\", \"T\" ,\"T\" ,\"A\" ,\"T\" ,\"A\" ,\"T\" ,\"T\", \"T\" ,\"A\", \"C\" ,\"G\", \"A\" ,\"T\", \"T\",\n",
    "  \"G\", \"T\" ,\"G\" ,\"T\" ,\"G\" ,\"C\" ,\"T\" ,\"C\", \"G\" ,\"C\", \"T\" ,\"G\", \"G\" ,\"T\", \"A\",\n",
    "  \"T\", \"A\" ,\"A\" ,\"A\" ,\"C\" ,\"T\" ,\"C\" ,\"G\", \"C\" ,\"C\", \"T\" ,\"T\", \"T\" ,\"G\", \"T\",\n",
    "  \"C\", \"T\" ,\"C\" ,\"G\" ,\"G\" ,\"C\" ,\"A\" ,\"A\", \"A\" ,\"C\", \"T\" ,\"T\", \"A\" ,\"G\", \"A\",\n",
    " \"T\", \"T\" ,\"A\" ,\"T\" ,\"G\" ,\"C\" ,\"C\" ,\"G\", \"G\" ,\"G\", \"T\" ,\"T\", \"C\" ,\"G\", \"C\",\n",
    " \"T\", \"T\" ,\"C\" ,\"A\" ,\"T\" ,\"C\" ,\"C\" ,\"T\", \"T\" ,\"T\", \"A\" ,\"C\", \"T\" ,\"T\", \"T\",\n",
    " \"T\", \"G\" ,\"T\" ,\"T\" ,\"A\" ,\"A\" ,\"C\" ,\"T\", \"A\" ,\"G\", \"T\" ,\"T\", \"G\" ,\"C\", \"A\",\n",
    " \"C\", \"C\" ,\"T\" ,\"T\" ,\"A\" ,\"T\", \"T\"]\n",
    "\n",
    "print(len(pos))\n",
    "print(len(alt))\n",
    "\n",
    "Contig4190 = nonsyn_info(Contig4190_fasta, alt, pos)\n",
    "Contig4190\n",
    "\n",
    "AT_Contig4190_nonsynINFO = find_nonsyn_snp_pos(Contig4190, pos)"
   ]
  },
  {
   "cell_type": "code",
   "execution_count": 51,
   "metadata": {},
   "outputs": [],
   "source": [
    "Contig4190.to_csv(\"AT_Contig4190_nonsynINFO.csv\", index = False)\n",
    "\n",
    "with open(\"AT_Contig4190_nonsynINFO.txt\", \"w\") as output:\n",
    "    for row in AT_Contig4190_nonsynINFO:\n",
    "        output.write(str(row) + \"\\n\")"
   ]
  },
  {
   "cell_type": "code",
   "execution_count": 43,
   "metadata": {},
   "outputs": [
    {
     "name": "stdout",
     "output_type": "stream",
     "text": [
      "1689\n",
      "78\n",
      "78\n"
     ]
    }
   ],
   "source": [
    "# AT:Contig660 \n",
    "Contig660_fasta = \"atgtcgtatgttcctcctcacctgagaaactcttccgccgcccccgccgccgctgctaaaaccctagtaaacggtaactccgatcacttccactccaagcagctcaacggctcctattcgcaattcacttccgctaaaagcaacaataacaacggcaactcaactaattcgtggaatgccggaggccggagctccggaaattacgcctcatcggtgccggagccggtcgttccgcagtggaagccttctgaccgcgttttgagcctctcaccggaacaggttcaggaggtctgtatgaggcttaatgttgatgctatagttccaccagattcacaacctgcaccagctcctattgagtcattcactgacatgaatttgcatgcaagcatcacgaaagatatagcatttcatggatatacaacaccgacttcaattcaggcgcaggccatgccggttgctttaactggaagggatcttttgggttgtgcagaaactggaagcggtaaaacagccgcatttagtatacctatgatacagcattgcctggctcagcctcctattcggcgtggagatggacctttagcattagtattagcaccaactagagagctggctcaacaaatagagaaagaagtgaaggctttcagccgatctttggagtcatttagaactgcaattgttgttggtggaacaaacatttccgatcagaggtctgagctgcgagcaggggtggatatagtagttgctactcctgggagatttattgaccatcttcaacaaggaaatacttctttatcgaggatatcgtttgtcattttggacgaagctgatcggatgcttgacatgggatttgagcctcagataagagaggtgatgcaaaatcttcccaaaaagcatcaaactttgctgttcagtgctacaatgccagtggagattgaagagttagcacaggaatacttaacagatccagtgcgagtaaaagttggaaaagtcagcagccccacagcaaatgtatcccaaacattggagaaggtacctgaaaatgagaagattgacaggttgctagatatgcttgttgaggcagctgctcaatctgaaaagggcagccgttcattccccttgaccattgtatttgtggaacggaagaacagatgtgatgaagttgctgaagcattgacacaacaaggtctgcaagcagctgctcttcatggtggtcgtagtcaaagtgagagggaggctgctctccgtgactttagaaatggtcctacccggatactggttgccacagatgttgcatcgcggggattagacgtcactggggttgctcatgtcatcaatctggatcttccgaagacaatggaagattatgtacaccggattggaaggactggtcgtgcaggatcaacaggccaagctacatcattttatacggatcgtgacatgtttcttgtagctcaaataaagaaagcaattcaagatgtcgagtctggtaatttgttaactttcgcaacaggaaagaccgccagaagaaaggaacgggaagctcaagcagcttcaaaagacgcaatgcttatatcaaaactttcgttggtgggttcgggagcaataaacgtggaggacaaatataggcacatgatggtccaagctggaagcaaaaaggagggttctgctgacgatgcgtgggacgac\"\n",
    "Contig660_fasta = Contig660_fasta.upper()\n",
    "\n",
    "print(len(Contig660_fasta))\n",
    "\n",
    "pos = [ 22,   45 ,  51 ,  68 ,  80,   84,   93,  121,  130,  133,  141,  143,\n",
    "  147 , 156 , 162 , 180  ,191,  197 , 217,  234 , 243,  246 , 319,  326,\n",
    "  339 , 342 , 392 , 453  ,465,  514 , 554,  576 , 580,  606 , 652,  675,\n",
    "  684 , 702 , 712,  748  ,750,  816 , 831,  861 ,1022, 1023 ,1060, 1063,\n",
    " 1079 ,1098 ,1101, 1120, 1140, 1187 ,1194, 1212 ,1248, 1254 ,1269, 1311,\n",
    " 1314 ,1317 ,1366, 1377, 1404, 1483 ,1509, 1536 ,1563, 1564 ,1596, 1605,\n",
    " 1611 ,1623 ,1647, 1659, 1668, 1674]\n",
    "\n",
    "alt = [\"A\", \"T\", \"A\", \"G\", \"T\", \"C\", \"A\", \"A\", \"A\", \"T\", \"A\", \"G\", \"C\", \"T\", \"C\",\n",
    " \"T\", \"C\", \"A\", \"G\", \"A\", \"T\", \"C\", \"A\", \"A\", \"C\", \"T\", \"C\", \"T\", \"C\", \"A\",\n",
    " \"T\", \"G\", \"C\", \"G\", \"G\", \"G\", \"C\", \"T\", \"A\", \"T\", \"C\", \"C\", \"C\", \"A\", \"G\",\n",
    " \"G\", \"C\", \"T\", \"T\", \"G\", \"A\", \"C\", \"G\", \"A\", \"G\", \"G\", \"C\", \"C\", \"T\", \"T\",\n",
    " \"A\", \"G\", \"C\", \"T\", \"G\", \"A\", \"T\", \"G\", \"T\", \"T\", \"C\", \"T\", \"G\", \"A\", \"G\",\n",
    " \"G\", \"T\", \"T\"]\n",
    "\n",
    "print(len(pos))\n",
    "print(len(alt))\n",
    "\n",
    "Contig660 = nonsyn_info(Contig660_fasta, alt, pos)\n",
    "Contig660\n",
    "\n",
    "AT_Contig660_nonsynINFO = find_nonsyn_snp_pos(Contig660, pos)"
   ]
  },
  {
   "cell_type": "code",
   "execution_count": 52,
   "metadata": {},
   "outputs": [],
   "source": [
    "Contig660.to_csv(\"AT_Contig660_nonsynINFO.csv\", index = False)\n",
    "\n",
    "with open(\"AT_Contig660_nonsynINFO.txt\", \"w\") as output:\n",
    "    for row in AT_Contig660_nonsynINFO:\n",
    "        output.write(str(row) + \"\\n\")"
   ]
  },
  {
   "cell_type": "code",
   "execution_count": 63,
   "metadata": {},
   "outputs": [],
   "source": [
    "f = open(\"C:/Users/Aysevil/Dropbox/Aarhus Lectures/Project/cluster_files/syn_nonsyn_DATA/AT_Contig4190_nonsynINFO.txt\", \"r\")\n",
    "content = f.read()\n",
    "f.close()"
   ]
  },
  {
   "cell_type": "code",
   "execution_count": 79,
   "metadata": {},
   "outputs": [],
   "source": [
    "\n",
    "with open(\"C:/Users/Aysevil/Dropbox/Aarhus Lectures/Project/cluster_files/syn_nonsyn_DATA/AT_Contig4190_nonsynINFO.txt\") as f:\n",
    "    content = f.readlines()\n",
    "    array = []\n",
    "    for line in content: # read rest of lines\n",
    "        array.append(int(line))\n"
   ]
  }
 ],
 "metadata": {
  "kernelspec": {
   "display_name": "Python 3",
   "language": "python",
   "name": "python3"
  },
  "language_info": {
   "codemirror_mode": {
    "name": "ipython",
    "version": 3
   },
   "file_extension": ".py",
   "mimetype": "text/x-python",
   "name": "python",
   "nbconvert_exporter": "python",
   "pygments_lexer": "ipython3",
   "version": "3.7.4"
  }
 },
 "nbformat": 4,
 "nbformat_minor": 2
}
